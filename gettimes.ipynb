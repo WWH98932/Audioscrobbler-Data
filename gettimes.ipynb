{
 "cells": [
  {
   "cell_type": "code",
   "execution_count": 8,
   "metadata": {},
   "outputs": [
    {
     "name": "stdout",
     "output_type": "stream",
     "text": [
      "['1000006', '1000007', '1000009', '1000010', '2916', '2933', '3011', '3085', '1259', '1263154', '1264427', '1266', '1000199', '1000201', '1000272', '1000301', '1133048', '1133068', '1134669', '1135167']\n",
      "['1000002', '1000019', '1001035', '1001038', '1023151']\n",
      "{'1000002': 0, '1000019': 1, '1001035': 2, '1001038': 3, '1023151': 4}\n",
      "{'1000006': 0, '1000007': 1, '1000009': 2, '1000010': 3, '2916': 4, '2933': 5, '3011': 6, '3085': 7, '1259': 8, '1263154': 9, '1264427': 10, '1266': 11, '1000199': 12, '1000201': 13, '1000272': 14, '1000301': 15, '1133048': 16, '1133068': 17, '1134669': 18, '1135167': 19}\n",
      "[[ 33   8 144  58   0   0   0   0   0   0   0   0   0   0   0   0   0   0\n",
      "    0   0]\n",
      " [  0   0   0   0   1   1   1   1   0   0   0   0   0   0   0   0   0   0\n",
      "    0   0]\n",
      " [  0   0   0   0   0   0   0   0  12   3   1  18   0   0   0   0   0   0\n",
      "    0   0]\n",
      " [  0   0   0   0   0   0   0   0   0   0   0   0   4  17   6   7   0   0\n",
      "    0   0]\n",
      " [  0   0   0   0   0   0   0   0   0   0   0   0   0   0   0   0   1   1\n",
      "    1  10]]\n",
      "58\n"
     ]
    }
   ],
   "source": [
    "import numpy as np\n",
    "previous_listener = 0\n",
    "listeners = []\n",
    "artists = []\n",
    "artistsdup = []\n",
    "times = []\n",
    "datatype = 'uint8'\n",
    "\n",
    "file = open(\"README.txt\", 'r', encoding='utf-8')\n",
    "for line in file:\n",
    "    data = line.rstrip().split()\n",
    "    artistsdup.append(data[1])\n",
    "    if previous_listener != data[0]:\n",
    "        listeners.append(data[0])\n",
    "file.close()\n",
    "artists = list(artistsdup)\n",
    "listeners = sorted(list(set(listeners)))\n",
    "\n",
    "lisart = np.zeros((len(listeners), len(artists)), dtype='uint8')\n",
    "\n",
    "listenerindex = range(len(listeners))\n",
    "listenerdict = dict(zip(listeners, listenerindex))\n",
    "artistindex = range(len(artists))\n",
    "artistdict = dict(zip(artists, artistindex))\n",
    "\n",
    "print(artists)\n",
    "print(listeners)\n",
    "print(listenerdict)\n",
    "print(artistdict)\n",
    "\n",
    "x = list(listenerdict.values())\n",
    "y = list(artistdict.values())\n",
    "\n",
    "file = open(\"README.txt\", 'r', encoding='utf-8')\n",
    "for line in file:\n",
    "    data = line.rstrip().split()\n",
    "    times.append(data[2])\n",
    "    for i in range(len(x)):\n",
    "        for j in range(len(y)):\n",
    "            if data[0] in listenerdict and data[1] in artistdict:\n",
    "                lisart[listeners.index(data[0])][artists.index(data[1])] = data[2]\n",
    "\n",
    "print(lisart)\n",
    "\n",
    "def getTimesforUserXArtistY(userID, artistID):\n",
    "    timesListened = lisart[listenerdict[userID], artistdict[artistID]]\n",
    "    print(timesListened)\n",
    "\n",
    "getTimesforUserXArtistY('1000002', '1000010')"
   ]
  },
  {
   "cell_type": "code",
   "execution_count": null,
   "metadata": {
    "collapsed": true,
    "scrolled": true
   },
   "outputs": [],
   "source": []
  },
  {
   "cell_type": "code",
   "execution_count": null,
   "metadata": {
    "collapsed": true
   },
   "outputs": [],
   "source": []
  },
  {
   "cell_type": "code",
   "execution_count": null,
   "metadata": {
    "collapsed": true
   },
   "outputs": [],
   "source": []
  }
 ],
 "metadata": {
  "kernelspec": {
   "display_name": "Python 3",
   "language": "python",
   "name": "python3"
  },
  "language_info": {
   "codemirror_mode": {
    "name": "ipython",
    "version": 3
   },
   "file_extension": ".py",
   "mimetype": "text/x-python",
   "name": "python",
   "nbconvert_exporter": "python",
   "pygments_lexer": "ipython3",
   "version": "3.6.3"
  }
 },
 "nbformat": 4,
 "nbformat_minor": 2
}
